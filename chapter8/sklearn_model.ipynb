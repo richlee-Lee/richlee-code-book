{
  "nbformat": 4,
  "nbformat_minor": 0,
  "metadata": {
    "colab": {
      "private_outputs": true,
      "provenance": [],
      "include_colab_link": true
    },
    "kernelspec": {
      "name": "python3",
      "display_name": "Python 3"
    },
    "language_info": {
      "name": "python"
    }
  },
  "cells": [
    {
      "cell_type": "markdown",
      "metadata": {
        "id": "view-in-github",
        "colab_type": "text"
      },
      "source": [
        "<a href=\"https://colab.research.google.com/github/richlee-Lee/richlee-code-book/blob/main/chapter8/sklearn_model.ipynb\" target=\"_parent\"><img src=\"https://colab.research.google.com/assets/colab-badge.svg\" alt=\"Open In Colab\"/></a>"
      ]
    },
    {
      "cell_type": "code",
      "source": [
        "!wget -q https://storage.googleapis.com/low-code-ai-book/car_prices_train.csv\n",
        "!wget -q https://storage.googleapis.com/low-code-ai-book/car_prices_valid.csv\n",
        "!wget -q https://storage.googleapis.com/low-code-ai-book/car_prices_test.csv"
      ],
      "metadata": {
        "id": "C9usxHMzVxeG"
      },
      "execution_count": null,
      "outputs": []
    },
    {
      "cell_type": "code",
      "source": [
        "import pandas as pd\n",
        "\n",
        "train_df = pd.read_csv('./car_prices_train.csv')\n",
        "valid_df = pd.read_csv('./car_prices_valid.csv')\n",
        "test_df = pd.read_csv('./car_prices_test.csv')"
      ],
      "metadata": {
        "id": "aHsCK_tLW6Hf"
      },
      "execution_count": null,
      "outputs": []
    },
    {
      "cell_type": "code",
      "source": [
        "train_df.head()"
      ],
      "metadata": {
        "id": "wiBduMC-wUHc"
      },
      "execution_count": null,
      "outputs": []
    },
    {
      "cell_type": "code",
      "source": [
        "train_df.describe(include='all')"
      ],
      "metadata": {
        "id": "3dDW7OPhXFeA"
      },
      "execution_count": null,
      "outputs": []
    },
    {
      "cell_type": "code",
      "source": [
        "valid_df.describe(include='all')"
      ],
      "metadata": {
        "id": "4oQx9ViXYb0V"
      },
      "execution_count": null,
      "outputs": []
    },
    {
      "cell_type": "code",
      "source": [
        "test_df.describe(include='all')"
      ],
      "metadata": {
        "id": "Ki4AXOozZ-yS"
      },
      "execution_count": null,
      "outputs": []
    },
    {
      "cell_type": "code",
      "source": [
        "from sklearn.preprocessing import FunctionTransformer, OneHotEncoder, MinMaxScaler\n",
        "from sklearn.compose import ColumnTransformer\n",
        "from sklearn.linear_model import LinearRegression\n",
        "from sklearn.pipeline import Pipeline\n",
        "\n",
        "y_train = train_df['sellingprice']\n",
        "X_train = train_df.drop('sellingprice', axis=1)\n",
        "\n",
        "def drop_columns(df, columns):\n",
        "    return df.drop(columns, axis=1)\n",
        "\n",
        "preproc_cols = FunctionTransformer(drop_columns, kw_args={\"columns\":['Unnamed: 0', 'mmr']})\n",
        "\n",
        "numeric_columns = ['year', 'condition', 'odometer']\n",
        "categorical_columns = ['make', 'model', 'trim', 'body',\n",
        "                       'transmission', 'state', 'color', 'interior']\n",
        "\n",
        "col_transformer = ColumnTransformer(\n",
        "  [('ohe', OneHotEncoder(drop='if_binary', handle_unknown='infrequent_if_exist'),\n",
        "      categorical_columns),\n",
        "   ('minmax', MinMaxScaler(), numeric_columns)])\n",
        "\n",
        "model = LinearRegression()\n",
        "\n",
        "pipeline = Pipeline(steps=[('preproc_cols' , preproc_cols),\n",
        "                           ('col_transformer', col_transformer),\n",
        "                           ('model', model)])\n",
        "\n",
        "pipeline.fit(X_train, y_train)\n"
      ],
      "metadata": {
        "id": "IrOqYXC5aCAp"
      },
      "execution_count": null,
      "outputs": []
    },
    {
      "cell_type": "code",
      "source": [
        "import math\n",
        "from sklearn.metrics import mean_squared_error, mean_absolute_error\n",
        "\n",
        "y_valid = valid_df['sellingprice']\n",
        "X_valid = valid_df.drop('sellingprice', axis=1)\n",
        "\n",
        "print('R2:', pipeline.score(X_valid, y_valid))\n",
        "print('RMSE:',math.sqrt(mean_squared_error(y_valid, pipeline.predict(X_valid))))\n",
        "print('MAE:', mean_absolute_error(y_valid, pipeline.predict(X_valid)))\n"
      ],
      "metadata": {
        "id": "5p8MkQqVcKMe"
      },
      "execution_count": null,
      "outputs": []
    },
    {
      "cell_type": "code",
      "source": [
        "import pandas as pd\n",
        "\n",
        "from sklearn.preprocessing import (OneHotEncoder, MinMaxScaler,\n",
        "                                   FunctionTransformer,\n",
        "                                   KBinsDiscretizer)\n",
        "from sklearn.compose import ColumnTransformer\n",
        "from sklearn.linear_model import LinearRegression\n",
        "from sklearn.pipeline import Pipeline\n",
        "\n",
        "y_train = train_df['sellingprice']\n",
        "X_train = train_df.drop('sellingprice', axis=1)\n",
        "\n",
        "def preproc_cols(df, drop_cols):\n",
        "    return df.drop(drop_cols, axis=1)\n",
        "\n",
        "drop_cols = FunctionTransformer(preproc_cols, kw_args={\"drop_cols\":['Unnamed: 0', 'mmr']})\n",
        "ohe = OneHotEncoder(drop='if_binary', handle_unknown='infrequent_if_exist')\n",
        "minmax = MinMaxScaler()\n",
        "bucket_cond = KBinsDiscretizer(n_bins=10, encode='onehot', strategy='uniform')\n",
        "\n",
        "numeric_columns = ['year', 'odometer']\n",
        "categorical_columns = ['make', 'model', 'trim', 'body',\n",
        "                       'transmission', 'state', 'color', 'interior']\n",
        "\n",
        "col_transformer = ColumnTransformer(\n",
        "  [('ohe', ohe, categorical_columns),\n",
        "   ('minmax', minmax, numeric_columns),\n",
        "   ('bucket_cond', bucket_cond, ['condition'])])\n",
        "\n",
        "pipeline = Pipeline(steps=[('drop_cols' , drop_cols),\n",
        "                           ('col_transformer', col_transformer),\n",
        "                           ('model', model)])\n",
        "\n",
        "pipeline.fit(X_train, y_train)\n"
      ],
      "metadata": {
        "id": "McuS4IgW4-za"
      },
      "execution_count": null,
      "outputs": []
    },
    {
      "cell_type": "code",
      "source": [
        "print('R2:', pipeline.score(X_valid, y_valid))\n",
        "print('RMSE:',math.sqrt(mean_squared_error(y_valid, pipeline.predict(X_valid))))\n",
        "print('MAE:', mean_absolute_error(y_valid, pipeline.predict(X_valid)))"
      ],
      "metadata": {
        "id": "jYnqfrzA6dZ4"
      },
      "execution_count": null,
      "outputs": []
    },
    {
      "cell_type": "code",
      "source": [
        "(train_df.trim.value_counts()==1).sum()"
      ],
      "metadata": {
        "id": "9iZANjlB6so5"
      },
      "execution_count": null,
      "outputs": []
    },
    {
      "cell_type": "code",
      "source": [
        "import pandas as pd\n",
        "\n",
        "from sklearn.preprocessing import (OneHotEncoder, MinMaxScaler,\n",
        "                                   FunctionTransformer,\n",
        "                                   KBinsDiscretizer)\n",
        "from sklearn.compose import ColumnTransformer\n",
        "from sklearn.linear_model import LinearRegression\n",
        "from sklearn.pipeline import Pipeline\n",
        "\n",
        "y_train = train_df['sellingprice']\n",
        "X_train = train_df.drop('sellingprice', axis=1)\n",
        "\n",
        "def preproc_cols(df, drop_cols):\n",
        "    return df.drop(drop_cols, axis=1)\n",
        "\n",
        "drop_cols = FunctionTransformer(preproc_cols, kw_args={\"drop_cols\":['Unnamed: 0', 'mmr']})\n",
        "ohe = OneHotEncoder(drop='if_binary', handle_unknown='infrequent_if_exist', min_frequency=1)\n",
        "minmax = MinMaxScaler()\n",
        "bucket_cond = KBinsDiscretizer(n_bins=10, encode='onehot', strategy='uniform')\n",
        "\n",
        "numeric_columns = ['year', 'odometer']\n",
        "categorical_columns = ['make', 'model', 'trim', 'body',\n",
        "                       'transmission', 'state', 'color', 'interior']\n",
        "\n",
        "col_transformer = ColumnTransformer(\n",
        "  [('ohe', ohe, categorical_columns),\n",
        "   ('minmax', minmax, numeric_columns),\n",
        "   ('bucket_cond', bucket_cond, ['condition'])])\n",
        "\n",
        "pipeline = Pipeline(steps=[('drop_cols' , drop_cols),\n",
        "                           ('col_transformer', col_transformer),\n",
        "                           ('model', model)])\n",
        "\n",
        "pipeline.fit(X_train, y_train)\n"
      ],
      "metadata": {
        "id": "OBeYd8Xl60wr"
      },
      "execution_count": null,
      "outputs": []
    },
    {
      "cell_type": "code",
      "source": [
        "print('R2:', pipeline.score(X_valid, y_valid))\n",
        "print('RMSE:',math.sqrt(mean_squared_error(y_valid, pipeline.predict(X_valid))))\n",
        "print('MAE:', mean_absolute_error(y_valid, pipeline.predict(X_valid)))"
      ],
      "metadata": {
        "id": "SkLQvlZr7BT4"
      },
      "execution_count": null,
      "outputs": []
    },
    {
      "cell_type": "code",
      "source": [
        "import pandas as pd\n",
        "\n",
        "from sklearn.preprocessing import (OneHotEncoder, MinMaxScaler,\n",
        "                                   FunctionTransformer,\n",
        "                                   KBinsDiscretizer)\n",
        "from sklearn.compose import ColumnTransformer\n",
        "from sklearn.linear_model import LinearRegression\n",
        "from sklearn.pipeline import Pipeline\n",
        "\n",
        "y_train = train_df['sellingprice']\n",
        "X_train = train_df.drop('sellingprice', axis=1)\n",
        "\n",
        "def preproc_cols(df, drop_cols):\n",
        "\n",
        "    df['model_trim'] = df['model'] + df['trim']\n",
        "    df['model_trim'] = df['model_trim'].str.lower()\n",
        "\n",
        "    df['color_interior'] = df['color'] + df['interior']\n",
        "    df['color_interior'] = df['color_interior'].str.lower()\n",
        "\n",
        "    return df.drop(drop_cols, axis=1)\n",
        "\n",
        "drop_cols = FunctionTransformer(preproc_cols, kw_args={\"drop_cols\":['Unnamed: 0', 'mmr']})\n",
        "ohe = OneHotEncoder(drop='if_binary', handle_unknown='infrequent_if_exist', min_frequency=1)\n",
        "minmax = MinMaxScaler()\n",
        "bucket_cond = KBinsDiscretizer(n_bins=10, encode='onehot', strategy='uniform')\n",
        "\n",
        "numeric_columns = ['year', 'odometer']\n",
        "categorical_columns = ['make', 'model', 'trim', 'model_trim', 'body',\n",
        "                       'transmission', 'state', 'color', 'interior',\n",
        "                       'color_interior']\n",
        "\n",
        "col_transformer = ColumnTransformer(\n",
        "  [('ohe', ohe, categorical_columns),\n",
        "   ('minmax', minmax, numeric_columns),\n",
        "   ('bucket_cond', bucket_cond, ['condition'])])\n",
        "\n",
        "pipeline = Pipeline(steps=[('drop_cols' , drop_cols),\n",
        "                           ('col_transformer', col_transformer),\n",
        "                           ('model', model)])\n",
        "\n",
        "pipeline.fit(X_train, y_train)"
      ],
      "metadata": {
        "id": "ma6-bxqI7Joe"
      },
      "execution_count": null,
      "outputs": []
    },
    {
      "cell_type": "code",
      "source": [
        "print('R2:', pipeline.score(X_valid, y_valid))\n",
        "print('RMSE:',math.sqrt(mean_squared_error(y_valid, pipeline.predict(X_valid))))\n",
        "print('MAE:', mean_absolute_error(y_valid, pipeline.predict(X_valid)))"
      ],
      "metadata": {
        "id": "RjuVDEnD7yND"
      },
      "execution_count": null,
      "outputs": []
    },
    {
      "cell_type": "code",
      "source": [
        "import pandas as pd\n",
        "\n",
        "from sklearn.preprocessing import (OneHotEncoder, MinMaxScaler,\n",
        "                                   FunctionTransformer,\n",
        "                                   KBinsDiscretizer)\n",
        "from sklearn.compose import ColumnTransformer\n",
        "from sklearn.linear_model import LinearRegression\n",
        "from sklearn.pipeline import Pipeline\n",
        "\n",
        "y_train = train_df['sellingprice']\n",
        "X_train = train_df.drop('sellingprice', axis=1)\n",
        "\n",
        "def preproc_cols(df, drop_cols):\n",
        "\n",
        "    df['model_trim'] = df['model'] + df['trim']\n",
        "    df['model_trim'] = df['model_trim'].str.lower()\n",
        "\n",
        "    df['color_interior'] = df['color'] + df['interior']\n",
        "    df['color_interior'] = df['color_interior'].str.lower()\n",
        "\n",
        "    return df.drop(drop_cols, axis=1)\n",
        "\n",
        "drop_cols = FunctionTransformer(preproc_cols, kw_args={\"drop_cols\":['Unnamed: 0', 'mmr']})\n",
        "ohe = OneHotEncoder(drop='if_binary', handle_unknown='infrequent_if_exist', min_frequency=1)\n",
        "minmax = MinMaxScaler()\n",
        "bucket_cond = KBinsDiscretizer(n_bins=10, encode='onehot',\n",
        "    strategy='uniform')\n",
        "bucket_odo = KBinsDiscretizer(n_bins=10, encode='onehot',\n",
        "    strategy='quantile')\n",
        "bucket_year = KBinsDiscretizer(n_bins=10, encode='onehot',\n",
        "    strategy='uniform')\n",
        "\n",
        "categorical_columns = ['make', 'model', 'trim', 'model_trim', 'body',\n",
        "                       'transmission', 'state', 'color', 'interior',\n",
        "                       'color_interior']\n",
        "\n",
        "col_transformer = ColumnTransformer(\n",
        "  [('ohe', ohe, categorical_columns),\n",
        "   ('minmax', minmax, numeric_columns),\n",
        "   ('bucket_cond', bucket_cond, ['condition']),\n",
        "   ('bucket_odo', bucket_odo, ['odometer']),\n",
        "   ('bucket_year', bucket_year, ['year'])]\n",
        "   )\n",
        "\n",
        "pipeline = Pipeline(steps=[('drop_cols' , drop_cols),\n",
        "                           ('col_transformer', col_transformer),\n",
        "                           ('model', model)])\n",
        "\n",
        "grid_params = {'col_transformer__bucket_cond__n_bins': range(8,13),\n",
        "               'col_transformer__bucket_odo__n_bins': range(8,13),\n",
        "               'col_transformer__bucket_year__n_bins': range(8,13),\n",
        "               'col_transformer__ohe__min_frequency': range(5)\n",
        "              }\n",
        "\n",
        "from sklearn.experimental import enable_halving_search_cv\n",
        "from sklearn.model_selection import HalvingGridSearchCV\n",
        "\n",
        "grid_search = HalvingGridSearchCV(pipeline, grid_params,\n",
        "                                  cv=3, verbose=0,\n",
        "                                  scoring='neg_mean_absolute_error')\n",
        "\n",
        "grid_search.fit(X_train, y_train)\n",
        "print(grid_search.best_params_)"
      ],
      "metadata": {
        "id": "BTYCtbzU9_UJ"
      },
      "execution_count": null,
      "outputs": []
    },
    {
      "cell_type": "code",
      "source": [
        "y_valid = valid_df['sellingprice']\n",
        "X_valid = valid_df.drop('sellingprice', axis=1)\n",
        "\n",
        "print('MAE:', mean_absolute_error(y_valid, grid_search.predict(X_valid)))\n",
        "print('MAE:', math.sqrt(mean_squared_error(y_valid, grid_search.predict(X_valid))))"
      ],
      "metadata": {
        "id": "_GSQIYPv_-ne"
      },
      "execution_count": null,
      "outputs": []
    },
    {
      "cell_type": "code",
      "source": [],
      "metadata": {
        "id": "7j4kceDCkq4F"
      },
      "execution_count": null,
      "outputs": []
    }
  ]
}