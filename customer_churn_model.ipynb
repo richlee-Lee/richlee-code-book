{
  "nbformat": 4,
  "nbformat_minor": 0,
  "metadata": {
    "colab": {
      "private_outputs": true,
      "provenance": [],
      "authorship_tag": "ABX9TyMnAUa2JThdhQ5SpIbYMuRp",
      "include_colab_link": true
    },
    "kernelspec": {
      "name": "python3",
      "display_name": "Python 3"
    },
    "language_info": {
      "name": "python"
    }
  },
  "cells": [
    {
      "cell_type": "markdown",
      "metadata": {
        "id": "view-in-github",
        "colab_type": "text"
      },
      "source": [
        "<a href=\"https://colab.research.google.com/github/richlee-Lee/richlee-code-book/blob/main/customer_churn_model.ipynb\" target=\"_parent\"><img src=\"https://colab.research.google.com/assets/colab-badge.svg\" alt=\"Open In Colab\"/></a>"
      ]
    },
    {
      "cell_type": "code",
      "execution_count": null,
      "metadata": {
        "id": "3J-xkk9_j0vY"
      },
      "outputs": [],
      "source": []
    },
    {
      "cell_type": "code",
      "source": [
        "import matplotlib.pyplot as plt\n",
        "import pandas as pd\n",
        "import numpy as np\n",
        "import seaborn as sns\n",
        "import sklearn\n",
        "import tensorflow as tf"
      ],
      "metadata": {
        "id": "g6TAuYT1kC2L"
      },
      "execution_count": null,
      "outputs": []
    },
    {
      "cell_type": "code",
      "source": [
        "print(\"skiki-learn version:\", sklearn.__version__)\n",
        "print(\"Tensorflow version:\", tf.__version__)"
      ],
      "metadata": {
        "id": "_9OK9aSAkplp"
      },
      "execution_count": null,
      "outputs": []
    },
    {
      "cell_type": "code",
      "source": [
        "file_loc = \"https://storage.googleapis.com/low-code-ai-book/churn_dataset.csv\"\n",
        "df_raw = pd.read_csv(file_loc)\n",
        "df_raw.head()"
      ],
      "metadata": {
        "id": "8E3s6MEYlkFa"
      },
      "execution_count": null,
      "outputs": []
    },
    {
      "cell_type": "code",
      "source": [
        "df_raw.info()"
      ],
      "metadata": {
        "id": "pSW0QI-mmU7y"
      },
      "execution_count": null,
      "outputs": []
    },
    {
      "cell_type": "code",
      "source": [
        "df_raw['TotalCharges'].describe()"
      ],
      "metadata": {
        "id": "m-MWd7ORmhiA"
      },
      "execution_count": null,
      "outputs": []
    },
    {
      "cell_type": "code",
      "source": [
        "mask = (df_raw['TotalCharges']==' ')\n",
        "df_raw[mask].head()"
      ],
      "metadata": {
        "id": "6Vm-jDXyn16P"
      },
      "execution_count": null,
      "outputs": []
    },
    {
      "cell_type": "code",
      "source": [
        "mask = (df_raw['tenure']==0)\n",
        "df_raw[mask][['tenure','TotalCharges']]"
      ],
      "metadata": {
        "id": "zesT4-F9pF4X"
      },
      "execution_count": null,
      "outputs": []
    },
    {
      "cell_type": "code",
      "source": [
        "df1 = df_raw.copy()\n",
        "df1['TotalCharges'].replace(' ',0.0, inplace=True)\n",
        "df1[mask][['tenure','TotalCharges']]"
      ],
      "metadata": {
        "id": "002AftOwqR-3"
      },
      "execution_count": null,
      "outputs": []
    },
    {
      "cell_type": "code",
      "source": [
        "df1['TotalCharges'] = df1['TotalCharges'].astype('float')\n",
        "df1.info()"
      ],
      "metadata": {
        "id": "_nbQMrQpsQqi"
      },
      "execution_count": null,
      "outputs": []
    },
    {
      "cell_type": "code",
      "source": [
        "df1.describe()"
      ],
      "metadata": {
        "id": "zI-T1at_stgk"
      },
      "execution_count": null,
      "outputs": []
    },
    {
      "cell_type": "code",
      "source": [
        "df1.describe(include='all')"
      ],
      "metadata": {
        "id": "dn7SYKVEBj_6"
      },
      "execution_count": null,
      "outputs": []
    },
    {
      "cell_type": "code",
      "source": [
        "df1.value_counts(['PhoneService','MultipleLines'])"
      ],
      "metadata": {
        "id": "5hsCcLZQCAhq"
      },
      "execution_count": null,
      "outputs": []
    },
    {
      "cell_type": "code",
      "source": [
        "df1.groupby('Contract')['Churn'].value_counts(normalize=True).unstack('Churn').plot.bar(stacked=True)"
      ],
      "metadata": {
        "id": "9WO5LcPYDbq6"
      },
      "execution_count": null,
      "outputs": []
    },
    {
      "cell_type": "code",
      "source": [
        "def plot_cat_dist(feature_name):\n",
        "    df1.groupby(feature_name)['Churn'].value_counts(normalize=True).unstack('Churn').plot.bar(stacked=True)"
      ],
      "metadata": {
        "id": "R82PyGMyFMnn"
      },
      "execution_count": null,
      "outputs": []
    },
    {
      "cell_type": "code",
      "source": [
        "plot_cat_dist('PaymentMethod')"
      ],
      "metadata": {
        "id": "WAmln8mqG5by"
      },
      "execution_count": null,
      "outputs": []
    },
    {
      "cell_type": "code",
      "source": [
        "df1['average_charge'] = df1['TotalCharges']/df1['tenure']\n",
        "df1['diff'] = df1['MonthlyCharges'] - df1['average_charge']\n",
        "df1['diff'].describe()"
      ],
      "metadata": {
        "id": "GZICJzNSHIyG"
      },
      "execution_count": null,
      "outputs": []
    },
    {
      "cell_type": "code",
      "source": [
        "df1['month_bin'] = pd.cut(df1['MonthlyCharges'],bins=3)\n",
        "plot_cat_dist('month_bin')"
      ],
      "metadata": {
        "id": "Y79o9kdbJ-uU"
      },
      "execution_count": null,
      "outputs": []
    },
    {
      "cell_type": "code",
      "source": [
        "df2 = df1.copy()\n",
        "df2 = df2.drop(columns=['gender','PhoneService','StreamingTV','StreamingMovies'])\n",
        "df2.columns"
      ],
      "metadata": {
        "id": "v57_pa7FLshc"
      },
      "execution_count": null,
      "outputs": []
    },
    {
      "cell_type": "code",
      "source": [
        "df2 = df2.drop(columns=['customerID','TotalCharges','average_charge','diff','month_bin'])\n",
        "df2.columns"
      ],
      "metadata": {
        "id": "L15F3j35PYIX"
      },
      "execution_count": null,
      "outputs": []
    },
    {
      "cell_type": "code",
      "source": [
        "df2.dtypes"
      ],
      "metadata": {
        "id": "EC_iRhECQZJp"
      },
      "execution_count": null,
      "outputs": []
    },
    {
      "cell_type": "code",
      "source": [
        "df2.describe(include='all')"
      ],
      "metadata": {
        "id": "e0Xds2kzSR5i"
      },
      "execution_count": null,
      "outputs": []
    },
    {
      "cell_type": "code",
      "source": [
        "df2['InternetService'].value_counts()"
      ],
      "metadata": {
        "id": "K0gW7PwHTHJI"
      },
      "execution_count": null,
      "outputs": []
    },
    {
      "cell_type": "code",
      "source": [
        "df_prep = df2.replace('No internet service', 'No')\n",
        "df_prep[['OnlineSecurity','OnlineBackup','DeviceProtection','TechSupport']].nunique()"
      ],
      "metadata": {
        "id": "k4arETZyThUB"
      },
      "execution_count": null,
      "outputs": []
    },
    {
      "cell_type": "code",
      "source": [
        "from sklearn.preprocessing import OneHotEncoder\n",
        "numeric_columns = ['SeniorCitizen', 'tenure', 'MonthlyCharges']\n",
        "category_columns = ['Partner', 'Dependents', 'MultipleLines',\n",
        "       'InternetService', 'OnlineSecurity', 'OnlineBackup', 'DeviceProtection',\n",
        "       'TechSupport', 'Contract', 'PaperlessBilling', 'PaymentMethod','diffbuckets']\n",
        "\n",
        "x_num = df_prep[numeric_columns]\n",
        "x_cat = df_prep[category_columns]\n",
        "ohe = OneHotEncoder(drop='if_binary')\n",
        "x_cat_trans = ohe.fit_transform(x_cat)"
      ],
      "metadata": {
        "id": "bZG_qHXxU7qc"
      },
      "execution_count": null,
      "outputs": []
    },
    {
      "cell_type": "code",
      "source": [
        "x_cat_trans.toarray()[0]"
      ],
      "metadata": {
        "id": "9KuWJF_IY_dc"
      },
      "execution_count": null,
      "outputs": []
    },
    {
      "cell_type": "code",
      "source": [
        "ohe.inverse_transform(x_cat_trans.toarray())[0]"
      ],
      "metadata": {
        "id": "AFRtT6MEZExr"
      },
      "execution_count": null,
      "outputs": []
    },
    {
      "cell_type": "code",
      "source": [
        "X = np.concatenate((x_num.values,x_cat_trans.toarray()), axis=1)\n",
        "y = df_prep['Churn'].values"
      ],
      "metadata": {
        "id": "U80TRFFTZf03"
      },
      "execution_count": null,
      "outputs": []
    },
    {
      "cell_type": "code",
      "source": [
        "from sklearn.model_selection import train_test_split\n",
        "X_train, X_test, y_train, y_test = train_test_split(X, y, test_size=0.2, random_state=113)\n",
        "X_train.shape"
      ],
      "metadata": {
        "id": "g_vlrVtMakAG"
      },
      "execution_count": null,
      "outputs": []
    },
    {
      "cell_type": "code",
      "source": [
        "from sklearn.linear_model import LogisticRegression\n",
        "cls = LogisticRegression()\n",
        "cls.fit(X_train, y_train)"
      ],
      "metadata": {
        "id": "jLBNVNm1ak_N"
      },
      "execution_count": null,
      "outputs": []
    },
    {
      "cell_type": "code",
      "source": [
        "from sklearn.preprocessing import MinMaxScaler\n",
        "scaler = MinMaxScaler()\n",
        "X_train_scaled = scaler.fit_transform(X_train)"
      ],
      "metadata": {
        "id": "2fdBi47Ea3kh"
      },
      "execution_count": null,
      "outputs": []
    },
    {
      "cell_type": "code",
      "source": [
        "cls.fit(X_train_scaled, y_train)"
      ],
      "metadata": {
        "id": "R0Qwcejjd1Ym"
      },
      "execution_count": null,
      "outputs": []
    },
    {
      "cell_type": "code",
      "source": [
        "cls.score(X_test, y_test)"
      ],
      "metadata": {
        "id": "a6kjXiMDeBUo"
      },
      "execution_count": null,
      "outputs": []
    },
    {
      "cell_type": "code",
      "source": [
        "X_test_scaled = scaler.transform(X_test)\n",
        "cls.score(X_test_scaled, y_test)"
      ],
      "metadata": {
        "id": "nHdl_4XAeoiR"
      },
      "execution_count": null,
      "outputs": []
    },
    {
      "cell_type": "code",
      "source": [
        "from sklearn.metrics import confusion_matrix\n",
        "y_pred = cls.predict(X_test_scaled)\n",
        "confusion_matrix(y_test, y_pred, labels=['Yes','No'])"
      ],
      "metadata": {
        "id": "WGEQ4BxTe8Gp"
      },
      "execution_count": null,
      "outputs": []
    },
    {
      "cell_type": "code",
      "source": [
        "from sklearn.metrics import precision_score, recall_score\n",
        "print(\"Precision:\",precision_score(y_test,y_pred,labels=['Yes','No'], pos_label='Yes'))\n",
        "print(\"Recall:\",recall_score(y_test,y_pred,labels=['Yes','No'],pos_label='Yes'))"
      ],
      "metadata": {
        "id": "1iHRoyyYgwYf"
      },
      "execution_count": null,
      "outputs": []
    },
    {
      "cell_type": "code",
      "source": [],
      "metadata": {
        "id": "AN59x__niFQb"
      },
      "execution_count": null,
      "outputs": []
    }
  ]
}